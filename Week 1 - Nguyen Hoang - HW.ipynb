{
 "cells": [
  {
   "cell_type": "code",
   "execution_count": 13,
   "id": "98bd0d33",
   "metadata": {},
   "outputs": [
    {
     "name": "stdout",
     "output_type": "stream",
     "text": [
      "Input the first number:5\n",
      "Input the second number:9\n"
     ]
    },
    {
     "data": {
      "text/plain": [
       "-1"
      ]
     },
     "execution_count": 13,
     "metadata": {},
     "output_type": "execute_result"
    }
   ],
   "source": [
    "a = []\n",
    "def compare_twonumbers():\n",
    "    b = input('Input the first number:') #Define user's input\n",
    "    c = input(\"Input the second number:\") #Define second user's input\n",
    "    a.append(b) #O(1)\n",
    "    a.append(c) #O(1)\n",
    "    if a[0] < a[1]:  \n",
    "        return -1\n",
    "    elif a[0] > a[1]:\n",
    "        return 1\n",
    "    else: \n",
    "        return 0\n",
    "compare_twonumbers()"
   ]
  },
  {
   "cell_type": "markdown",
   "id": "6cd27d7a",
   "metadata": {},
   "source": [
    "In total, my function does 3 calculations, which compare the first and the second number of a list/array. O(1) is the complexity of my function. It might get more complex if the number of elements in the list is high, as we need a for loop."
   ]
  },
  {
   "cell_type": "code",
   "execution_count": 36,
   "id": "8d9c2ce6",
   "metadata": {},
   "outputs": [
    {
     "data": {
      "text/plain": [
       "(3, 2)"
      ]
     },
     "execution_count": 36,
     "metadata": {},
     "output_type": "execute_result"
    }
   ],
   "source": [
    "def middle_number(input):\n",
    "    middle = float(len(input))/2\n",
    "    if middle % 2 != 0:\n",
    "        return input[int(middle - .5)]\n",
    "    else:\n",
    "        return (input[int(middle)], input_list[int(middle-1)])\n",
    "findMiddle([1,2,3,5])"
   ]
  },
  {
   "cell_type": "markdown",
   "id": "525bc035",
   "metadata": {},
   "source": [
    "This function complexity is O(1) as there is no loop through the list/array"
   ]
  },
  {
   "cell_type": "code",
   "execution_count": 75,
   "id": "3dac3616",
   "metadata": {},
   "outputs": [
    {
     "data": {
      "text/plain": [
       "45"
      ]
     },
     "execution_count": 75,
     "metadata": {},
     "output_type": "execute_result"
    }
   ],
   "source": [
    "def max_value(list):\n",
    "    max_number = 0 #O(1)\n",
    "    \n",
    "    for i in range (len(list)): #O(n)\n",
    "        if list[i] > max_number: #O(1)\n",
    "            max_number = list[i] #O(1)\n",
    "    return max_number\n",
    "max_value([5,3,45,6,1])"
   ]
  },
  {
   "cell_type": "markdown",
   "id": "76467da8",
   "metadata": {},
   "source": [
    "The complexity of this function is O(1) + O(n) = O(n)"
   ]
  },
  {
   "cell_type": "code",
   "execution_count": 72,
   "id": "9d719959",
   "metadata": {},
   "outputs": [
    {
     "name": "stdout",
     "output_type": "stream",
     "text": [
      "{1: 4, 2: 3}\n"
     ]
    }
   ],
   "source": [
    "def countNums(input):\n",
    "    counts = {}   #O(1)\n",
    "    \n",
    "    for item in input: #O(n)\n",
    "        if item in counts:\n",
    "            counts[item] += 1 #O(1)\n",
    "        else: \n",
    "            counts[item] = 1 #O(1)\n",
    "    print(counts) #O(1)\n",
    "countNums([1,2,1,2,2,1,1]) "
   ]
  },
  {
   "cell_type": "markdown",
   "id": "b946ca5f",
   "metadata": {},
   "source": [
    "The complexity of the function is O(1) + (O(n) * O(1) * O(1)) + O(1) = O(n)\n",
    "This is a valid overestimating complexity for this problem, which means the least complex solution is O(1) and the most complex is O(n)"
   ]
  },
  {
   "cell_type": "code",
   "execution_count": 79,
   "id": "45f82b74",
   "metadata": {},
   "outputs": [],
   "source": [
    "def findShared(input1, input2):\n",
    "    array = []\n",
    "    for i in range (len(input1)): #O(i)\n",
    "        for u in range (len(input2)): #O(u)\n",
    "            if input1[i] == input2[u]: #O(1)\n",
    "                if array[input1[i] == -1]: #O(1)\n",
    "                    array.append(input1[i]) #O(1)\n",
    "    return array"
   ]
  },
  {
   "cell_type": "markdown",
   "id": "1674d5e9",
   "metadata": {},
   "source": [
    "The complexity of this function is O(u) * O(i) * (O(1) + O(1)) = O(u*i). Or O(n^2)"
   ]
  },
  {
   "cell_type": "code",
   "execution_count": 90,
   "id": "c2ff8afa",
   "metadata": {},
   "outputs": [
    {
     "data": {
      "text/plain": [
       "'null'"
      ]
     },
     "execution_count": 90,
     "metadata": {},
     "output_type": "execute_result"
    }
   ],
   "source": [
    "def indexOf(number, list):\n",
    "    foundIndex = 'null' #Assign value O(1)\n",
    "    \n",
    "    for i in range(len(list)): #O(n)\n",
    "        if (list[i] == number): #O(1)\n",
    "            foundIndex = i #O(1)\n",
    "    return foundIndex\n",
    "indexOf(8, [4,56,6,3,5,6]) "
   ]
  },
  {
   "cell_type": "code",
   "execution_count": null,
   "id": "9c7dce2e",
   "metadata": {},
   "outputs": [],
   "source": []
  }
 ],
 "metadata": {
  "kernelspec": {
   "display_name": "Python 3 (ipykernel)",
   "language": "python",
   "name": "python3"
  },
  "language_info": {
   "codemirror_mode": {
    "name": "ipython",
    "version": 3
   },
   "file_extension": ".py",
   "mimetype": "text/x-python",
   "name": "python",
   "nbconvert_exporter": "python",
   "pygments_lexer": "ipython3",
   "version": "3.9.12"
  }
 },
 "nbformat": 4,
 "nbformat_minor": 5
}
